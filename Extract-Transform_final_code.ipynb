{
 "cells": [
  {
   "cell_type": "code",
   "execution_count": 178,
   "metadata": {},
   "outputs": [],
   "source": [
    "import pandas as pd\n",
    "import json"
   ]
  },
  {
   "cell_type": "markdown",
   "metadata": {},
   "source": [
    "## Deliverable 1: Extract\n",
    "----\n",
    "### Option 1: Use Python Dictionary Methods\n",
    "\n",
    "1. Import the `backer_info.csv` file into a DataFrame.\n",
    "2. Iterate through the DataFrame and convert each row to a dictionary. \n",
    "3. Iterate through each dictionary and do the following:\n",
    "    * Extract the dictionary values from the keys using Python list comprehension.\n",
    "    * Add the values for each row to a new list. \n",
    "4. Create a new DataFrame with the retrieved data. \n",
    "5. Export the DataFrame as `backers_data.csv`."
   ]
  },
  {
   "cell_type": "code",
   "execution_count": 179,
   "metadata": {
    "scrolled": true
   },
   "outputs": [
    {
     "data": {
      "text/html": [
       "<div>\n",
       "<style scoped>\n",
       "    .dataframe tbody tr th:only-of-type {\n",
       "        vertical-align: middle;\n",
       "    }\n",
       "\n",
       "    .dataframe tbody tr th {\n",
       "        vertical-align: top;\n",
       "    }\n",
       "\n",
       "    .dataframe thead th {\n",
       "        text-align: right;\n",
       "    }\n",
       "</style>\n",
       "<table border=\"1\" class=\"dataframe\">\n",
       "  <thead>\n",
       "    <tr style=\"text-align: right;\">\n",
       "      <th></th>\n",
       "      <th>backer_info</th>\n",
       "    </tr>\n",
       "  </thead>\n",
       "  <tbody>\n",
       "    <tr>\n",
       "      <th>0</th>\n",
       "      <td>{\"backer_id\": \"av166\", \"cf_id\": 968, \"name\": \"Angelo Vincent\", \"email\": \"avincent@live.com\"}</td>\n",
       "    </tr>\n",
       "    <tr>\n",
       "      <th>1</th>\n",
       "      <td>{\"backer_id\": \"ha127\", \"cf_id\": 563, \"name\": \"Hubert Arnold\", \"email\": \"harnold@yandex.com\"}</td>\n",
       "    </tr>\n",
       "    <tr>\n",
       "      <th>2</th>\n",
       "      <td>{\"backer_id\": \"lg794\", \"cf_id\": 65, \"name\": \"Loris Goulet\", \"email\": \"lgoulet@yandex.com\"}</td>\n",
       "    </tr>\n",
       "    <tr>\n",
       "      <th>3</th>\n",
       "      <td>{\"backer_id\": \"tb566\", \"cf_id\": 563, \"name\": \"Teodora Brunelli\", \"email\": \"tbrunelli@outlook.com\"}</td>\n",
       "    </tr>\n",
       "    <tr>\n",
       "      <th>4</th>\n",
       "      <td>{\"backer_id\": \"lh506\", \"cf_id\": 563, \"name\": \"Lexie Hunt\", \"email\": \"lhunt@live.com\"}</td>\n",
       "    </tr>\n",
       "  </tbody>\n",
       "</table>\n",
       "</div>"
      ],
      "text/plain": [
       "                                                                                          backer_info\n",
       "0        {\"backer_id\": \"av166\", \"cf_id\": 968, \"name\": \"Angelo Vincent\", \"email\": \"avincent@live.com\"}\n",
       "1        {\"backer_id\": \"ha127\", \"cf_id\": 563, \"name\": \"Hubert Arnold\", \"email\": \"harnold@yandex.com\"}\n",
       "2          {\"backer_id\": \"lg794\", \"cf_id\": 65, \"name\": \"Loris Goulet\", \"email\": \"lgoulet@yandex.com\"}\n",
       "3  {\"backer_id\": \"tb566\", \"cf_id\": 563, \"name\": \"Teodora Brunelli\", \"email\": \"tbrunelli@outlook.com\"}\n",
       "4               {\"backer_id\": \"lh506\", \"cf_id\": 563, \"name\": \"Lexie Hunt\", \"email\": \"lhunt@live.com\"}"
      ]
     },
     "execution_count": 179,
     "metadata": {},
     "output_type": "execute_result"
    }
   ],
   "source": [
    "# Get the backers_info from the crowdfunding_info sheet. \n",
    "backer_data_df = pd.read_csv(\"backer_info.csv\")\n",
    "pd.set_option('max_colwidth', 400)\n",
    "backer_data_df.head()"
   ]
  },
  {
   "cell_type": "code",
   "execution_count": 180,
   "metadata": {},
   "outputs": [],
   "source": [
    "# Iterate through the backers DataFrame and convert each row to a dictionary.\n",
    "\n",
    "\n",
    "    # Iterate through each dictionary (row) and get the values for each row using list comprehension.\n",
    "    \n",
    "    # Append the list of values for each row to a list. \n",
    "    \n",
    "\n",
    "# Print out the list of values for each row.\n"
   ]
  },
  {
   "cell_type": "code",
   "execution_count": 181,
   "metadata": {},
   "outputs": [
    {
     "data": {
      "text/html": [
       "<div>\n",
       "<style scoped>\n",
       "    .dataframe tbody tr th:only-of-type {\n",
       "        vertical-align: middle;\n",
       "    }\n",
       "\n",
       "    .dataframe tbody tr th {\n",
       "        vertical-align: top;\n",
       "    }\n",
       "\n",
       "    .dataframe thead th {\n",
       "        text-align: right;\n",
       "    }\n",
       "</style>\n",
       "<table border=\"1\" class=\"dataframe\">\n",
       "  <thead>\n",
       "    <tr style=\"text-align: right;\">\n",
       "      <th></th>\n",
       "      <th>backer_id</th>\n",
       "      <th>cf_id</th>\n",
       "      <th>name</th>\n",
       "      <th>email</th>\n",
       "    </tr>\n",
       "  </thead>\n",
       "  <tbody>\n",
       "    <tr>\n",
       "      <th>0</th>\n",
       "      <td>av166</td>\n",
       "      <td>968</td>\n",
       "      <td>Angelo Vincent</td>\n",
       "      <td>avincent@live.com</td>\n",
       "    </tr>\n",
       "    <tr>\n",
       "      <th>1</th>\n",
       "      <td>ha127</td>\n",
       "      <td>563</td>\n",
       "      <td>Hubert Arnold</td>\n",
       "      <td>harnold@yandex.com</td>\n",
       "    </tr>\n",
       "    <tr>\n",
       "      <th>2</th>\n",
       "      <td>lg794</td>\n",
       "      <td>65</td>\n",
       "      <td>Loris Goulet</td>\n",
       "      <td>lgoulet@yandex.com</td>\n",
       "    </tr>\n",
       "    <tr>\n",
       "      <th>3</th>\n",
       "      <td>tb566</td>\n",
       "      <td>563</td>\n",
       "      <td>Teodora Brunelli</td>\n",
       "      <td>tbrunelli@outlook.com</td>\n",
       "    </tr>\n",
       "    <tr>\n",
       "      <th>4</th>\n",
       "      <td>lh506</td>\n",
       "      <td>563</td>\n",
       "      <td>Lexie Hunt</td>\n",
       "      <td>lhunt@live.com</td>\n",
       "    </tr>\n",
       "    <tr>\n",
       "      <th>5</th>\n",
       "      <td>lh382</td>\n",
       "      <td>563</td>\n",
       "      <td>Lambert Huber</td>\n",
       "      <td>lhuber@live.com</td>\n",
       "    </tr>\n",
       "    <tr>\n",
       "      <th>6</th>\n",
       "      <td>em444</td>\n",
       "      <td>563</td>\n",
       "      <td>Emmy Morin</td>\n",
       "      <td>emorin@live.com</td>\n",
       "    </tr>\n",
       "    <tr>\n",
       "      <th>7</th>\n",
       "      <td>at582</td>\n",
       "      <td>157</td>\n",
       "      <td>Armonda Trani</td>\n",
       "      <td>atrani@live.com</td>\n",
       "    </tr>\n",
       "    <tr>\n",
       "      <th>8</th>\n",
       "      <td>id772</td>\n",
       "      <td>191</td>\n",
       "      <td>Ilana Duke</td>\n",
       "      <td>iduke@outlook.com</td>\n",
       "    </tr>\n",
       "    <tr>\n",
       "      <th>9</th>\n",
       "      <td>lw275</td>\n",
       "      <td>65</td>\n",
       "      <td>Leigha Wright</td>\n",
       "      <td>lwright@live.com</td>\n",
       "    </tr>\n",
       "  </tbody>\n",
       "</table>\n",
       "</div>"
      ],
      "text/plain": [
       "  backer_id cf_id              name                  email\n",
       "0     av166   968    Angelo Vincent      avincent@live.com\n",
       "1     ha127   563     Hubert Arnold     harnold@yandex.com\n",
       "2     lg794    65      Loris Goulet     lgoulet@yandex.com\n",
       "3     tb566   563  Teodora Brunelli  tbrunelli@outlook.com\n",
       "4     lh506   563        Lexie Hunt         lhunt@live.com\n",
       "5     lh382   563     Lambert Huber        lhuber@live.com\n",
       "6     em444   563        Emmy Morin        emorin@live.com\n",
       "7     at582   157     Armonda Trani        atrani@live.com\n",
       "8     id772   191        Ilana Duke      iduke@outlook.com\n",
       "9     lw275    65     Leigha Wright       lwright@live.com"
      ]
     },
     "execution_count": 181,
     "metadata": {},
     "output_type": "execute_result"
    }
   ],
   "source": [
    "# Create a backers_df DataFrame with the following columns: 'backer_id','cf_id', 'name', and 'email' \n",
    "# using the list of values lists. \n",
    "backer_data_df['backer_id'] = backer_data_df['backer_info'].str.extract(r'([a-z]+\\d{3})')\n",
    "backer_data_df['cf_id'] = backer_data_df['backer_info'].str.extract(r'(\\s\\d{1,3})')\n",
    "backer_data_df['name'] = backer_data_df['backer_info'].str.extract(r'([a-zA-Z]+\\s+[a-zA-Z]+)')\n",
    "backer_data_df['email'] = backer_data_df['backer_info'].str.extract(r'([\\w.+-]+@[\\w-]+\\.[\\w.-]+)')\n",
    "backer_data_df = backer_data_df[[\"backer_id\", \"cf_id\", \"name\",\"email\"]]\n",
    "backer_data_df.head(10)"
   ]
  },
  {
   "cell_type": "code",
   "execution_count": 182,
   "metadata": {},
   "outputs": [],
   "source": [
    "# Export the DataFrame as a CSV file using encoding='utf8'.\n",
    "backer_data_df.to_csv(\"backer_data.csv\", index = False, encoding='utf8' )"
   ]
  },
  {
   "cell_type": "markdown",
   "metadata": {},
   "source": [
    "## Deliverable 1: Extract\n",
    "----\n",
    "### Option 2: Use regex \n",
    "\n",
    "1. Import the `backer_info.csv` file into a DataFrame. \n",
    "2. Extract the \"backer_id\", \"cf_id\", \"name\", and \"email using regular expressions.\"\n",
    "3. Create a new DataFrame with the retrieved data.\n",
    "4. Export the DataFrame as `backers_data.csv`."
   ]
  },
  {
   "cell_type": "code",
   "execution_count": 183,
   "metadata": {},
   "outputs": [],
   "source": [
    "# Get the backers_info from the crowdfunding_info sheet. \n",
    "pd.set_option('max_colwidth', 400)\n"
   ]
  },
  {
   "cell_type": "code",
   "execution_count": 184,
   "metadata": {},
   "outputs": [],
   "source": [
    "# Extract the alpha-numeric \"backer_id\" from the backer_info column using a regex expression \n",
    "# and add it as a new column called \"backer_id\".\n",
    "\n"
   ]
  },
  {
   "cell_type": "code",
   "execution_count": 185,
   "metadata": {},
   "outputs": [],
   "source": [
    "# Extract the two to four-digit \"cf_id\" number from the backer_info column. \n",
    "# and add it as a new column called \"cf_id\".\n"
   ]
  },
  {
   "cell_type": "code",
   "execution_count": 186,
   "metadata": {},
   "outputs": [],
   "source": [
    "# Extract the name from the backer_info column and add it as a new column called \"name\".\n"
   ]
  },
  {
   "cell_type": "code",
   "execution_count": 187,
   "metadata": {},
   "outputs": [],
   "source": [
    "# Extract the email from the backer_info column and add it as a new column called \"email\".\n"
   ]
  },
  {
   "cell_type": "code",
   "execution_count": 188,
   "metadata": {},
   "outputs": [],
   "source": [
    "# Create a new DataFrame with the appropriate columns.\n"
   ]
  },
  {
   "cell_type": "code",
   "execution_count": 189,
   "metadata": {},
   "outputs": [],
   "source": [
    "# Export the DataFrame as a CSV file using encoding='utf8'.\n"
   ]
  },
  {
   "cell_type": "markdown",
   "metadata": {},
   "source": [
    "## Deliverable 2: Transform and Clean Data\n",
    "----\n",
    "1. Check the data types of the columns and convert the \"cf_id\" column to an integer, if necessary.\n",
    "2. Split the name in the \"name\" column into first and last names, and add them to \"first_name\" and \"last_name\" columns in the DataFrame. \n",
    "3. Drop the \"name\" column in the DataFrame.\n",
    "4. Place the columns in the following order; \"backer_id\", \"cf_id\", \"first_name\", \"last_name\" and \"email\"."
   ]
  },
  {
   "cell_type": "code",
   "execution_count": 190,
   "metadata": {},
   "outputs": [
    {
     "name": "stdout",
     "output_type": "stream",
     "text": [
      "<class 'pandas.core.frame.DataFrame'>\n",
      "RangeIndex: 8175 entries, 0 to 8174\n",
      "Data columns (total 4 columns):\n",
      " #   Column     Non-Null Count  Dtype \n",
      "---  ------     --------------  ----- \n",
      " 0   backer_id  8175 non-null   object\n",
      " 1   cf_id      8175 non-null   object\n",
      " 2   name       8175 non-null   object\n",
      " 3   email      8175 non-null   object\n",
      "dtypes: object(4)\n",
      "memory usage: 255.6+ KB\n"
     ]
    }
   ],
   "source": [
    "# Check data types.\n",
    "backer_data_df.info()"
   ]
  },
  {
   "cell_type": "code",
   "execution_count": 191,
   "metadata": {},
   "outputs": [
    {
     "name": "stdout",
     "output_type": "stream",
     "text": [
      "<class 'pandas.core.frame.DataFrame'>\n",
      "RangeIndex: 8175 entries, 0 to 8174\n",
      "Data columns (total 4 columns):\n",
      " #   Column     Non-Null Count  Dtype \n",
      "---  ------     --------------  ----- \n",
      " 0   backer_id  8175 non-null   object\n",
      " 1   cf_id      8175 non-null   int64 \n",
      " 2   name       8175 non-null   object\n",
      " 3   email      8175 non-null   object\n",
      "dtypes: int64(1), object(3)\n",
      "memory usage: 255.6+ KB\n"
     ]
    }
   ],
   "source": [
    "# Convert cf_id to an integer if necessary.\n",
    "backer_data_df[[\"cf_id\"]] = backer_data_df[[\"cf_id\"]].astype(int)\n",
    "backer_data_df.info()"
   ]
  },
  {
   "cell_type": "code",
   "execution_count": 192,
   "metadata": {},
   "outputs": [],
   "source": [
    "# Split the \"name\" column into \"first_name\" and \"last_name\" columns.\n",
    "backer_data_df[[\"first_name\", \"last_name\"]] = backer_data_df[\"name\"].str.split(' ',n=1,expand=True)"
   ]
  },
  {
   "cell_type": "code",
   "execution_count": 193,
   "metadata": {},
   "outputs": [
    {
     "data": {
      "text/html": [
       "<div>\n",
       "<style scoped>\n",
       "    .dataframe tbody tr th:only-of-type {\n",
       "        vertical-align: middle;\n",
       "    }\n",
       "\n",
       "    .dataframe tbody tr th {\n",
       "        vertical-align: top;\n",
       "    }\n",
       "\n",
       "    .dataframe thead th {\n",
       "        text-align: right;\n",
       "    }\n",
       "</style>\n",
       "<table border=\"1\" class=\"dataframe\">\n",
       "  <thead>\n",
       "    <tr style=\"text-align: right;\">\n",
       "      <th></th>\n",
       "      <th>backer_id</th>\n",
       "      <th>cf_id</th>\n",
       "      <th>first_name</th>\n",
       "      <th>last_name</th>\n",
       "      <th>email</th>\n",
       "    </tr>\n",
       "  </thead>\n",
       "  <tbody>\n",
       "    <tr>\n",
       "      <th>0</th>\n",
       "      <td>av166</td>\n",
       "      <td>968</td>\n",
       "      <td>Angelo</td>\n",
       "      <td>Vincent</td>\n",
       "      <td>avincent@live.com</td>\n",
       "    </tr>\n",
       "    <tr>\n",
       "      <th>1</th>\n",
       "      <td>ha127</td>\n",
       "      <td>563</td>\n",
       "      <td>Hubert</td>\n",
       "      <td>Arnold</td>\n",
       "      <td>harnold@yandex.com</td>\n",
       "    </tr>\n",
       "    <tr>\n",
       "      <th>2</th>\n",
       "      <td>lg794</td>\n",
       "      <td>65</td>\n",
       "      <td>Loris</td>\n",
       "      <td>Goulet</td>\n",
       "      <td>lgoulet@yandex.com</td>\n",
       "    </tr>\n",
       "    <tr>\n",
       "      <th>3</th>\n",
       "      <td>tb566</td>\n",
       "      <td>563</td>\n",
       "      <td>Teodora</td>\n",
       "      <td>Brunelli</td>\n",
       "      <td>tbrunelli@outlook.com</td>\n",
       "    </tr>\n",
       "    <tr>\n",
       "      <th>4</th>\n",
       "      <td>lh506</td>\n",
       "      <td>563</td>\n",
       "      <td>Lexie</td>\n",
       "      <td>Hunt</td>\n",
       "      <td>lhunt@live.com</td>\n",
       "    </tr>\n",
       "    <tr>\n",
       "      <th>5</th>\n",
       "      <td>lh382</td>\n",
       "      <td>563</td>\n",
       "      <td>Lambert</td>\n",
       "      <td>Huber</td>\n",
       "      <td>lhuber@live.com</td>\n",
       "    </tr>\n",
       "    <tr>\n",
       "      <th>6</th>\n",
       "      <td>em444</td>\n",
       "      <td>563</td>\n",
       "      <td>Emmy</td>\n",
       "      <td>Morin</td>\n",
       "      <td>emorin@live.com</td>\n",
       "    </tr>\n",
       "    <tr>\n",
       "      <th>7</th>\n",
       "      <td>at582</td>\n",
       "      <td>157</td>\n",
       "      <td>Armonda</td>\n",
       "      <td>Trani</td>\n",
       "      <td>atrani@live.com</td>\n",
       "    </tr>\n",
       "    <tr>\n",
       "      <th>8</th>\n",
       "      <td>id772</td>\n",
       "      <td>191</td>\n",
       "      <td>Ilana</td>\n",
       "      <td>Duke</td>\n",
       "      <td>iduke@outlook.com</td>\n",
       "    </tr>\n",
       "    <tr>\n",
       "      <th>9</th>\n",
       "      <td>lw275</td>\n",
       "      <td>65</td>\n",
       "      <td>Leigha</td>\n",
       "      <td>Wright</td>\n",
       "      <td>lwright@live.com</td>\n",
       "    </tr>\n",
       "  </tbody>\n",
       "</table>\n",
       "</div>"
      ],
      "text/plain": [
       "  backer_id  cf_id first_name last_name                  email\n",
       "0     av166    968     Angelo   Vincent      avincent@live.com\n",
       "1     ha127    563     Hubert    Arnold     harnold@yandex.com\n",
       "2     lg794     65      Loris    Goulet     lgoulet@yandex.com\n",
       "3     tb566    563    Teodora  Brunelli  tbrunelli@outlook.com\n",
       "4     lh506    563      Lexie      Hunt         lhunt@live.com\n",
       "5     lh382    563    Lambert     Huber        lhuber@live.com\n",
       "6     em444    563       Emmy     Morin        emorin@live.com\n",
       "7     at582    157    Armonda     Trani        atrani@live.com\n",
       "8     id772    191      Ilana      Duke      iduke@outlook.com\n",
       "9     lw275     65     Leigha    Wright       lwright@live.com"
      ]
     },
     "execution_count": 193,
     "metadata": {},
     "output_type": "execute_result"
    }
   ],
   "source": [
    "#  Drop the name column\n",
    "backer_data_df = backer_data_df.drop(['name'], axis=1)\n",
    "\n",
    "# Reorder the columns\n",
    "backer_data_df = backer_data_df[[\"backer_id\", \"cf_id\", \"first_name\", \"last_name\", \"email\"]]\n",
    "backer_data_df.head(10)"
   ]
  },
  {
   "cell_type": "code",
   "execution_count": 194,
   "metadata": {},
   "outputs": [],
   "source": [
    "# Export the DataFrame as a CSV file using encoding='utf8'.\n",
    "backer_data_df.to_csv(\"backers.csv\" , index = False, encoding='utf8' )"
   ]
  },
  {
   "cell_type": "code",
   "execution_count": null,
   "metadata": {},
   "outputs": [],
   "source": []
  }
 ],
 "metadata": {
  "kernelspec": {
   "display_name": "PythonData",
   "language": "python",
   "name": "pythondata"
  },
  "language_info": {
   "codemirror_mode": {
    "name": "ipython",
    "version": 3
   },
   "file_extension": ".py",
   "mimetype": "text/x-python",
   "name": "python",
   "nbconvert_exporter": "python",
   "pygments_lexer": "ipython3",
   "version": "3.9.13"
  }
 },
 "nbformat": 4,
 "nbformat_minor": 4
}
